{
 "cells": [
  {
   "cell_type": "code",
   "execution_count": 1,
   "id": "19c30ddb",
   "metadata": {},
   "outputs": [],
   "source": [
    "import requests\n",
    "\n",
    "def predict_model(data):\n",
    "    url = 'http://127.0.0.1:5000/predict_model'\n",
    "    \n",
    "    response = requests.post(url, json=data)\n",
    "    \n",
    "    if response.status_code == 200:\n",
    "        return response.json()\n",
    "    else:\n",
    "        return {'error': f'Request failed with status code {response.status_code}'}"
   ]
  },
  {
   "cell_type": "code",
   "execution_count": 8,
   "id": "8b682bd4",
   "metadata": {},
   "outputs": [],
   "source": [
    "data = {\n",
    "    'Age': 22,\n",
    "    'Gender': 'Male',\n",
    "    'Department': 'HR',\n",
    "    'Job_Title': 'Analyst',\n",
    "    'Experience_Years': 2,\n",
    "    'Education_Level': 'Master',\n",
    "    'Location': 'New York'\n",
    "}"
   ]
  },
  {
   "cell_type": "code",
   "execution_count": 10,
   "id": "22b04860",
   "metadata": {},
   "outputs": [
    {
     "data": {
      "text/plain": [
       "{'prediction': 'Worker salary is 68514 dollars per year!'}"
      ]
     },
     "execution_count": 10,
     "metadata": {},
     "output_type": "execute_result"
    }
   ],
   "source": [
    "prediction = predict_model(data)\n",
    "prediction"
   ]
  }
 ],
 "metadata": {
  "kernelspec": {
   "display_name": ".venv (3.12.4)",
   "language": "python",
   "name": "python3"
  },
  "language_info": {
   "codemirror_mode": {
    "name": "ipython",
    "version": 3
   },
   "file_extension": ".py",
   "mimetype": "text/x-python",
   "name": "python",
   "nbconvert_exporter": "python",
   "pygments_lexer": "ipython3",
   "version": "3.12.4"
  }
 },
 "nbformat": 4,
 "nbformat_minor": 5
}
